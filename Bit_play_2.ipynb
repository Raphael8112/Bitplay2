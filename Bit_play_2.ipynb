{
  "nbformat": 4,
  "nbformat_minor": 0,
  "metadata": {
    "colab": {
      "provenance": [],
      "authorship_tag": "ABX9TyM/WKHkYcfitwaA0HECzJbz",
      "include_colab_link": true
    },
    "kernelspec": {
      "name": "python3",
      "display_name": "Python 3"
    },
    "language_info": {
      "name": "python"
    }
  },
  "cells": [
    {
      "cell_type": "markdown",
      "metadata": {
        "id": "view-in-github",
        "colab_type": "text"
      },
      "source": [
        "<a href=\"https://colab.research.google.com/github/Raphael8112/Bitplay2/blob/main/Bit_play_2.ipynb\" target=\"_parent\"><img src=\"https://colab.research.google.com/assets/colab-badge.svg\" alt=\"Open In Colab\"/></a>"
      ]
    },
    {
      "cell_type": "code",
      "execution_count": 3,
      "metadata": {
        "colab": {
          "base_uri": "https://localhost:8080/"
        },
        "id": "e6EUqBDo8CiA",
        "outputId": "addbbd46-31fb-4340-ec69-1a9364b719d9"
      },
      "outputs": [
        {
          "output_type": "stream",
          "name": "stdout",
          "text": [
            "Numbers are equal\n",
            "Numbers are not equal\n"
          ]
        }
      ],
      "source": [
        "def check_equal(a,b):\n",
        "    result = a ^ b\n",
        "    if result:\n",
        "      print(\"Numbers are not equal\")\n",
        "    else:\n",
        "         print(\"Numbers are equal\")\n",
        "check_equal(5,5)\n",
        "check_equal(4,7)"
      ]
    },
    {
      "cell_type": "code",
      "source": [
        "def find_unpaired_element(arr):\n",
        "  result = 0\n",
        "  for num in arr:\n",
        "    result ^= num # XOR each number\n",
        "  return result\n",
        "# Input from user\n",
        "arr = list(map(int, input(\"Enter numbers separated by spaces(with one unpaired):|\").split()))\n",
        "unpaired = find_unpaired_element(arr)\n",
        "print(\"The element not making a pair is:\", unpaired)"
      ],
      "metadata": {
        "colab": {
          "base_uri": "https://localhost:8080/"
        },
        "id": "VmYBgbzO84lM",
        "outputId": "66246282-b103-42c0-9389-d88b099104f1"
      },
      "execution_count": 4,
      "outputs": [
        {
          "output_type": "stream",
          "name": "stdout",
          "text": [
            "Enter numbers separated by spaces(with one unpaired):|2 3\n",
            "The element not making a pair is: 1\n"
          ]
        }
      ]
    }
  ]
}